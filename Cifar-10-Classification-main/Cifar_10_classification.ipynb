{
 "cells": [
  {
   "cell_type": "markdown",
   "metadata": {
    "id": "B-FjTVNqsYmI"
   },
   "source": [
    "# Case Study using CIFAR-10 datasets and also augmenting the Data"
   ]
  },
  {
   "cell_type": "markdown",
   "metadata": {
    "id": "G-aQMM7SvJ0R"
   },
   "source": [
    "# STEP #1: IMPORT LIBRARIES/DATASETS"
   ]
  },
  {
   "cell_type": "code",
   "execution_count": 1,
   "metadata": {
    "executionInfo": {
     "elapsed": 1712,
     "status": "ok",
     "timestamp": 1609534595165,
     "user": {
      "displayName": "Sharath Dinesh",
      "photoUrl": "",
      "userId": "14052193369924556532"
     },
     "user_tz": -330
    },
    "id": "iyihbioRvJ0S"
   },
   "outputs": [],
   "source": [
    "import pandas as pd\n",
    "import numpy as np\n",
    "import matplotlib.pyplot as plt\n",
    "import seaborn "
   ]
  },
  {
   "cell_type": "code",
   "execution_count": 2,
   "metadata": {
    "colab": {
     "base_uri": "https://localhost:8080/"
    },
    "executionInfo": {
     "elapsed": 8588,
     "status": "ok",
     "timestamp": 1609534602051,
     "user": {
      "displayName": "Sharath Dinesh",
      "photoUrl": "",
      "userId": "14052193369924556532"
     },
     "user_tz": -330
    },
    "id": "28DqP-FTvJ0V",
    "outputId": "79ccb2b6-57de-4db3-ef81-2569b4c76680"
   },
   "outputs": [
    {
     "name": "stdout",
     "output_type": "stream",
     "text": [
      "Downloading data from https://www.cs.toronto.edu/~kriz/cifar-10-python.tar.gz\n",
      "170500096/170498071 [==============================] - 475s 3us/step\n",
      "170508288/170498071 [==============================] - 475s 3us/step\n"
     ]
    }
   ],
   "source": [
    "from keras.datasets import cifar10\n",
    "(X_train, y_train) , (X_test, y_test) = cifar10.load_data()"
   ]
  },
  {
   "cell_type": "code",
   "execution_count": 3,
   "metadata": {
    "colab": {
     "base_uri": "https://localhost:8080/"
    },
    "executionInfo": {
     "elapsed": 8584,
     "status": "ok",
     "timestamp": 1609534602063,
     "user": {
      "displayName": "Sharath Dinesh",
      "photoUrl": "",
      "userId": "14052193369924556532"
     },
     "user_tz": -330
    },
    "id": "gKyXqtruvJ0W",
    "outputId": "27603bb7-2f82-4ddc-9f0e-950b8ae8a979"
   },
   "outputs": [
    {
     "data": {
      "text/plain": [
       "(50000, 32, 32, 3)"
      ]
     },
     "execution_count": 3,
     "metadata": {},
     "output_type": "execute_result"
    }
   ],
   "source": [
    "X_train.shape"
   ]
  },
  {
   "cell_type": "code",
   "execution_count": 4,
   "metadata": {
    "colab": {
     "base_uri": "https://localhost:8080/"
    },
    "executionInfo": {
     "elapsed": 8572,
     "status": "ok",
     "timestamp": 1609534602065,
     "user": {
      "displayName": "Sharath Dinesh",
      "photoUrl": "",
      "userId": "14052193369924556532"
     },
     "user_tz": -330
    },
    "id": "jtTbshjxvJ0Z",
    "outputId": "c4da26bd-12d2-44bd-ecfc-40945d36b809"
   },
   "outputs": [
    {
     "data": {
      "text/plain": [
       "(10000, 32, 32, 3)"
      ]
     },
     "execution_count": 4,
     "metadata": {},
     "output_type": "execute_result"
    }
   ],
   "source": [
    "X_test.shape"
   ]
  },
  {
   "cell_type": "code",
   "execution_count": 5,
   "metadata": {
    "colab": {
     "base_uri": "https://localhost:8080/"
    },
    "executionInfo": {
     "elapsed": 8562,
     "status": "ok",
     "timestamp": 1609534602068,
     "user": {
      "displayName": "Sharath Dinesh",
      "photoUrl": "",
      "userId": "14052193369924556532"
     },
     "user_tz": -330
    },
    "id": "ljvaHH95vJ0a",
    "outputId": "5a7c18fa-35f3-4e08-a0f8-717364fa8282"
   },
   "outputs": [
    {
     "data": {
      "text/plain": [
       "(50000, 1)"
      ]
     },
     "execution_count": 5,
     "metadata": {},
     "output_type": "execute_result"
    }
   ],
   "source": [
    "y_train.shape"
   ]
  },
  {
   "cell_type": "code",
   "execution_count": 6,
   "metadata": {
    "colab": {
     "base_uri": "https://localhost:8080/"
    },
    "executionInfo": {
     "elapsed": 8549,
     "status": "ok",
     "timestamp": 1609534602070,
     "user": {
      "displayName": "Sharath Dinesh",
      "photoUrl": "",
      "userId": "14052193369924556532"
     },
     "user_tz": -330
    },
    "id": "dXHowcg-vJ0b",
    "outputId": "f2a128e9-2c69-4421-93d4-3e51732803b1"
   },
   "outputs": [
    {
     "data": {
      "text/plain": [
       "(10000, 1)"
      ]
     },
     "execution_count": 6,
     "metadata": {},
     "output_type": "execute_result"
    }
   ],
   "source": [
    "y_test.shape"
   ]
  },
  {
   "cell_type": "markdown",
   "metadata": {
    "id": "n1BOYoLMvJ0c"
   },
   "source": [
    "# STEP #2: VISUALIZE DATA"
   ]
  },
  {
   "cell_type": "code",
   "execution_count": 7,
   "metadata": {
    "colab": {
     "base_uri": "https://localhost:8080/",
     "height": 283
    },
    "executionInfo": {
     "elapsed": 8538,
     "status": "ok",
     "timestamp": 1609534602072,
     "user": {
      "displayName": "Sharath Dinesh",
      "photoUrl": "",
      "userId": "14052193369924556532"
     },
     "user_tz": -330
    },
    "id": "nUdlkF0IvJ0d",
    "outputId": "5c02fc29-8525-40b0-bb49-e425db4113b5"
   },
   "outputs": [
    {
     "name": "stdout",
     "output_type": "stream",
     "text": [
      "[1]\n"
     ]
    },
    {
     "data": {
      "image/png": "[encoded data removed]",
      "text/plain": [
       "<Figure size 432x288 with 1 Axes>"
      ]
     },
     "metadata": {
      "needs_background": "light"
     },
     "output_type": "display_data"
    }
   ],
   "source": [
    "i = 30009\n",
    "plt.imshow(X_train[i])\n",
    "print(y_train[i])"
   ]
  },
  {
   "cell_type": "code",
   "execution_count": 8,
   "metadata": {
    "colab": {
     "base_uri": "https://localhost:8080/",
     "height": 1000
    },
    "executionInfo": {
     "elapsed": 13635,
     "status": "ok",
     "timestamp": 1609534607184,
     "user": {
      "displayName": "Sharath Dinesh",
      "photoUrl": "",
      "userId": "14052193369924556532"
     },
     "user_tz": -330
    },
    "id": "EgpUdENxvJ0e",
    "outputId": "8a4b0df5-c86b-43fb-e78d-035d5213cf39"
   },
   "outputs": [
    {
     "name": "stderr",
     "output_type": "stream",
     "text": [
      "/home/sharath/anaconda3/lib/python3.8/site-packages/matplotlib/text.py:1165: FutureWarning: elementwise comparison failed; returning scalar instead, but in the future will perform elementwise comparison\n",
      "  if s != self._text:\n"
     ]
    },
    {
     "data": {
      "image/png": "[encoded data removed]",
      "text/plain": [
       "<Figure size 1800x1800 with 16 Axes>"
      ]
     },
     "metadata": {
      "needs_background": "light"
     },
     "output_type": "display_data"
    }
   ],
   "source": [
    "W_grid = 4\n",
    "L_grid = 4\n",
    "\n",
    "fig, axes = plt.subplots(L_grid, W_grid, figsize = (25, 25))\n",
    "axes = axes.ravel()\n",
    "\n",
    "n_training = len(X_train)\n",
    "\n",
    "for i in np.arange(0, L_grid * W_grid):\n",
    "    index = np.random.randint(0, n_training) # pick a random number\n",
    "    axes[i].imshow(X_train[index])\n",
    "    axes[i].set_title(y_train[index])\n",
    "    axes[i].axis('off')\n",
    "    \n",
    "plt.subplots_adjust(hspace = 0.4)"
   ]
  },
  {
   "cell_type": "code",
   "execution_count": 9,
   "metadata": {
    "colab": {
     "base_uri": "https://localhost:8080/"
    },
    "executionInfo": {
     "elapsed": 13624,
     "status": "ok",
     "timestamp": 1609534607186,
     "user": {
      "displayName": "Sharath Dinesh",
      "photoUrl": "",
      "userId": "14052193369924556532"
     },
     "user_tz": -330
    },
    "id": "lT7yyB21vJ0g",
    "outputId": "6bbe2bc9-51b7-4252-e800-2947475a92a4"
   },
   "outputs": [
    {
     "data": {
      "text/plain": [
       "50000"
      ]
     },
     "execution_count": 9,
     "metadata": {},
     "output_type": "execute_result"
    }
   ],
   "source": [
    "n_training"
   ]
  },
  {
   "cell_type": "code",
   "execution_count": null,
   "metadata": {
    "executionInfo": {
     "elapsed": 13621,
     "status": "ok",
     "timestamp": 1609534607188,
     "user": {
      "displayName": "Sharath Dinesh",
      "photoUrl": "",
      "userId": "14052193369924556532"
     },
     "user_tz": -330
    },
    "id": "ZVum_JNTvJ0h"
   },
   "outputs": [],
   "source": []
  },
  {
   "cell_type": "markdown",
   "metadata": {
    "id": "4Rk6-BhkvJ0h"
   },
   "source": [
    "# STEP #3: DATA PREPARATION"
   ]
  },
  {
   "cell_type": "code",
   "execution_count": 10,
   "metadata": {
    "executionInfo": {
     "elapsed": 13619,
     "status": "ok",
     "timestamp": 1609534607190,
     "user": {
      "displayName": "Sharath Dinesh",
      "photoUrl": "",
      "userId": "14052193369924556532"
     },
     "user_tz": -330
    },
    "id": "jCGlmaZKvJ0i"
   },
   "outputs": [],
   "source": [
    "X_train = X_train.astype('float32')\n",
    "X_test = X_test.astype('float32')"
   ]
  },
  {
   "cell_type": "code",
   "execution_count": 11,
   "metadata": {
    "executionInfo": {
     "elapsed": 13616,
     "status": "ok",
     "timestamp": 1609534607192,
     "user": {
      "displayName": "Sharath Dinesh",
      "photoUrl": "",
      "userId": "14052193369924556532"
     },
     "user_tz": -330
    },
    "id": "gSvDSEZ1vJ0j"
   },
   "outputs": [],
   "source": [
    "number_cat = 10"
   ]
  },
  {
   "cell_type": "code",
   "execution_count": 12,
   "metadata": {
    "colab": {
     "base_uri": "https://localhost:8080/"
    },
    "executionInfo": {
     "elapsed": 13607,
     "status": "ok",
     "timestamp": 1609534607194,
     "user": {
      "displayName": "Sharath Dinesh",
      "photoUrl": "",
      "userId": "14052193369924556532"
     },
     "user_tz": -330
    },
    "id": "abQOkMUlvJ0k",
    "outputId": "128283fc-4360-4c05-9f76-b4162e0d8118"
   },
   "outputs": [
    {
     "data": {
      "text/plain": [
       "array([[6],\n",
       "       [9],\n",
       "       [9],\n",
       "       ...,\n",
       "       [9],\n",
       "       [1],\n",
       "       [1]], dtype=uint8)"
      ]
     },
     "execution_count": 12,
     "metadata": {},
     "output_type": "execute_result"
    }
   ],
   "source": [
    "y_train"
   ]
  },
  {
   "cell_type": "code",
   "execution_count": 16,
   "metadata": {
    "executionInfo": {
     "elapsed": 13603,
     "status": "ok",
     "timestamp": 1609534607195,
     "user": {
      "displayName": "Sharath Dinesh",
      "photoUrl": "",
      "userId": "14052193369924556532"
     },
     "user_tz": -330
    },
    "id": "Su7zdAAXvJ0m"
   },
   "outputs": [],
   "source": [
    "from tensorflow.keras.utils import to_categorical\n",
    "y_train = to_categorical(y_train, number_cat)"
   ]
  },
  {
   "cell_type": "code",
   "execution_count": 17,
   "metadata": {
    "colab": {
     "base_uri": "https://localhost:8080/"
    },
    "executionInfo": {
     "elapsed": 13596,
     "status": "ok",
     "timestamp": 1609534607197,
     "user": {
      "displayName": "Sharath Dinesh",
      "photoUrl": "",
      "userId": "14052193369924556532"
     },
     "user_tz": -330
    },
    "id": "Y4hNrQt1vJ0n",
    "outputId": "de09bdf3-e19e-4582-cfb7-8c417551b4b5"
   },
   "outputs": [
    {
     "data": {
      "text/plain": [
       "array([[0., 0., 0., ..., 0., 0., 0.],\n",
       "       [0., 0., 0., ..., 0., 0., 1.],\n",
       "       [0., 0., 0., ..., 0., 0., 1.],\n",
       "       ...,\n",
       "       [0., 0., 0., ..., 0., 0., 1.],\n",
       "       [0., 1., 0., ..., 0., 0., 0.],\n",
       "       [0., 1., 0., ..., 0., 0., 0.]], dtype=float32)"
      ]
     },
     "execution_count": 17,
     "metadata": {},
     "output_type": "execute_result"
    }
   ],
   "source": [
    "y_train"
   ]
  },
  {
   "cell_type": "code",
   "execution_count": 20,
   "metadata": {
    "executionInfo": {
     "elapsed": 13593,
     "status": "ok",
     "timestamp": 1609534607199,
     "user": {
      "displayName": "Sharath Dinesh",
      "photoUrl": "",
      "userId": "14052193369924556532"
     },
     "user_tz": -330
    },
    "id": "_efWvoERvJ0o"
   },
   "outputs": [],
   "source": [
    "y_test = to_categorical(y_test, number_cat)"
   ]
  },
  {
   "cell_type": "code",
   "execution_count": 22,
   "metadata": {
    "colab": {
     "base_uri": "https://localhost:8080/"
    },
    "executionInfo": {
     "elapsed": 13585,
     "status": "ok",
     "timestamp": 1609534607200,
     "user": {
      "displayName": "Sharath Dinesh",
      "photoUrl": "",
      "userId": "14052193369924556532"
     },
     "user_tz": -330
    },
    "id": "-VN5RcuXvJ0o",
    "outputId": "21eba327-c3c6-4f29-d902-ecaf13971576"
   },
   "outputs": [
    {
     "data": {
      "text/plain": [
       "array([[0., 0., 0., ..., 0., 0., 0.],\n",
       "       [0., 0., 0., ..., 0., 1., 0.],\n",
       "       [0., 0., 0., ..., 0., 1., 0.],\n",
       "       ...,\n",
       "       [0., 0., 0., ..., 0., 0., 0.],\n",
       "       [0., 1., 0., ..., 0., 0., 0.],\n",
       "       [0., 0., 0., ..., 1., 0., 0.]], dtype=float32)"
      ]
     },
     "execution_count": 22,
     "metadata": {},
     "output_type": "execute_result"
    }
   ],
   "source": [
    "y_test"
   ]
  },
  {
   "cell_type": "code",
   "execution_count": null,
   "metadata": {
    "executionInfo": {
     "elapsed": 13583,
     "status": "ok",
     "timestamp": 1609534607202,
     "user": {
      "displayName": "Sharath Dinesh",
      "photoUrl": "",
      "userId": "14052193369924556532"
     },
     "user_tz": -330
    },
    "id": "gqWEw-JhvJ0p"
   },
   "outputs": [],
   "source": [
    "X_train = X_train/255\n",
    "X_test = X_test/255\n"
   ]
  },
  {
   "cell_type": "code",
   "execution_count": null,
   "metadata": {
    "colab": {
     "base_uri": "https://localhost:8080/"
    },
    "executionInfo": {
     "elapsed": 13575,
     "status": "ok",
     "timestamp": 1609534607203,
     "user": {
      "displayName": "Sharath Dinesh",
      "photoUrl": "",
      "userId": "14052193369924556532"
     },
     "user_tz": -330
    },
    "id": "MHqGMEmuvJ0p",
    "outputId": "d333bf75-fc68-4773-8b86-05b5770fbe4c"
   },
   "outputs": [],
   "source": [
    "X_train"
   ]
  },
  {
   "cell_type": "code",
   "execution_count": null,
   "metadata": {
    "colab": {
     "base_uri": "https://localhost:8080/"
    },
    "executionInfo": {
     "elapsed": 13570,
     "status": "ok",
     "timestamp": 1609534607207,
     "user": {
      "displayName": "Sharath Dinesh",
      "photoUrl": "",
      "userId": "14052193369924556532"
     },
     "user_tz": -330
    },
    "id": "wAzRRjSXvJ0q",
    "outputId": "89e8305d-276e-4ad9-9ad1-785d7e7b1475"
   },
   "outputs": [],
   "source": [
    "X_train.shape"
   ]
  },
  {
   "cell_type": "code",
   "execution_count": null,
   "metadata": {
    "executionInfo": {
     "elapsed": 13567,
     "status": "ok",
     "timestamp": 1609534607209,
     "user": {
      "displayName": "Sharath Dinesh",
      "photoUrl": "",
      "userId": "14052193369924556532"
     },
     "user_tz": -330
    },
    "id": "wY_o4nPrvJ0q"
   },
   "outputs": [],
   "source": [
    "Input_shape = X_train.shape[1:]"
   ]
  },
  {
   "cell_type": "code",
   "execution_count": null,
   "metadata": {
    "colab": {
     "base_uri": "https://localhost:8080/"
    },
    "executionInfo": {
     "elapsed": 13559,
     "status": "ok",
     "timestamp": 1609534607210,
     "user": {
      "displayName": "Sharath Dinesh",
      "photoUrl": "",
      "userId": "14052193369924556532"
     },
     "user_tz": -330
    },
    "id": "MmC6Tp7nvJ0r",
    "outputId": "4a37e1b7-6e55-484e-b802-f0b46f34744f"
   },
   "outputs": [],
   "source": [
    "Input_shape"
   ]
  },
  {
   "cell_type": "markdown",
   "metadata": {
    "id": "p885mSSRvJ0r"
   },
   "source": [
    "# STEP #4: TRAIN THE MODEL"
   ]
  },
  {
   "cell_type": "code",
   "execution_count": null,
   "metadata": {
    "executionInfo": {
     "elapsed": 13557,
     "status": "ok",
     "timestamp": 1609534607212,
     "user": {
      "displayName": "Sharath Dinesh",
      "photoUrl": "",
      "userId": "14052193369924556532"
     },
     "user_tz": -330
    },
    "id": "9jSZdpLuvJ0s"
   },
   "outputs": [],
   "source": [
    "from keras.models import Sequential\n",
    "from keras.layers import Conv2D, MaxPooling2D, AveragePooling2D, Dense, Flatten, Dropout\n",
    "from keras.optimizers import Adam\n",
    "from keras.callbacks import TensorBoard"
   ]
  },
  {
   "cell_type": "code",
   "execution_count": null,
   "metadata": {
    "executionInfo": {
     "elapsed": 13554,
     "status": "ok",
     "timestamp": 1609534607214,
     "user": {
      "displayName": "Sharath Dinesh",
      "photoUrl": "",
      "userId": "14052193369924556532"
     },
     "user_tz": -330
    },
    "id": "cn2Xa8POvJ0s"
   },
   "outputs": [],
   "source": [
    "cnn_model = Sequential()\n",
    "cnn_model.add(Conv2D(filters = 64, kernel_size = (3,3), activation = 'relu', input_shape = Input_shape))\n",
    "cnn_model.add(Conv2D(filters = 64, kernel_size = (3,3), activation = 'relu'))\n",
    "cnn_model.add(MaxPooling2D(2,2))\n",
    "cnn_model.add(Dropout(0.4))\n",
    "\n",
    "\n",
    "cnn_model.add(Conv2D(filters = 128, kernel_size = (3,3), activation = 'relu'))\n",
    "cnn_model.add(Conv2D(filters = 128, kernel_size = (3,3), activation = 'relu'))\n",
    "cnn_model.add(MaxPooling2D(2,2))\n",
    "cnn_model.add(Dropout(0.4))\n",
    "\n",
    "cnn_model.add(Flatten())\n",
    "\n",
    "cnn_model.add(Dense(units = 1024, activation = 'relu'))\n",
    "\n",
    "cnn_model.add(Dense(units = 1024, activation = 'relu'))\n",
    "\n",
    "cnn_model.add(Dense(units = 10, activation = 'softmax'))"
   ]
  },
  {
   "cell_type": "code",
   "execution_count": null,
   "metadata": {
    "executionInfo": {
     "elapsed": 983,
     "status": "ok",
     "timestamp": 1609534618597,
     "user": {
      "displayName": "Sharath Dinesh",
      "photoUrl": "",
      "userId": "14052193369924556532"
     },
     "user_tz": -330
    },
    "id": "ocdMMFMtvJ0t"
   },
   "outputs": [],
   "source": [
    "cnn_model.compile(loss = 'categorical_crossentropy', optimizer = keras.optimizers.RMSprop(lr = 0.001), metrics = ['accuracy'])"
   ]
  },
  {
   "cell_type": "code",
   "execution_count": null,
   "metadata": {
    "colab": {
     "base_uri": "https://localhost:8080/"
    },
    "id": "1RRTQIElvJ0u",
    "outputId": "a427d649-abf6-4c77-f8c1-b78cb52db4d0"
   },
   "outputs": [],
   "source": [
    "history = cnn_model.fit(X_train, y_train, batch_size = 32, epochs = 1, shuffle = True)"
   ]
  },
  {
   "cell_type": "markdown",
   "metadata": {
    "id": "eIQUw5zUvJ0u"
   },
   "source": [
    "# STEP #5: EVALUATE THE MODEL"
   ]
  },
  {
   "cell_type": "code",
   "execution_count": null,
   "metadata": {
    "executionInfo": {
     "elapsed": 13538,
     "status": "aborted",
     "timestamp": 1609534607221,
     "user": {
      "displayName": "Sharath Dinesh",
      "photoUrl": "",
      "userId": "14052193369924556532"
     },
     "user_tz": -330
    },
    "id": "o9cdSp4HvJ0v"
   },
   "outputs": [],
   "source": [
    "evaluation = cnn_model.evaluate(X_test, y_test)\n",
    "print('Test Accuracy: {}'.format(evaluation[1]))"
   ]
  },
  {
   "cell_type": "code",
   "execution_count": null,
   "metadata": {
    "executionInfo": {
     "elapsed": 13533,
     "status": "aborted",
     "timestamp": 1609534607223,
     "user": {
      "displayName": "Sharath Dinesh",
      "photoUrl": "",
      "userId": "14052193369924556532"
     },
     "user_tz": -330
    },
    "id": "Y8IgyYNjvJ0v"
   },
   "outputs": [],
   "source": [
    "predicted_classes = cnn_model.predict_classes(X_test) \n",
    "predicted_classes"
   ]
  },
  {
   "cell_type": "code",
   "execution_count": null,
   "metadata": {
    "executionInfo": {
     "elapsed": 13529,
     "status": "aborted",
     "timestamp": 1609534607226,
     "user": {
      "displayName": "Sharath Dinesh",
      "photoUrl": "",
      "userId": "14052193369924556532"
     },
     "user_tz": -330
    },
    "id": "aXMZKVNAvJ0w"
   },
   "outputs": [],
   "source": [
    "y_test"
   ]
  },
  {
   "cell_type": "code",
   "execution_count": null,
   "metadata": {
    "executionInfo": {
     "elapsed": 13525,
     "status": "aborted",
     "timestamp": 1609534607228,
     "user": {
      "displayName": "Sharath Dinesh",
      "photoUrl": "",
      "userId": "14052193369924556532"
     },
     "user_tz": -330
    },
    "id": "Z7iP8LtxvJ0w"
   },
   "outputs": [],
   "source": [
    "y_test = y_test.argmax(1)"
   ]
  },
  {
   "cell_type": "code",
   "execution_count": null,
   "metadata": {
    "executionInfo": {
     "elapsed": 13524,
     "status": "aborted",
     "timestamp": 1609534607231,
     "user": {
      "displayName": "Sharath Dinesh",
      "photoUrl": "",
      "userId": "14052193369924556532"
     },
     "user_tz": -330
    },
    "id": "N3YLyvqpvJ0w"
   },
   "outputs": [],
   "source": [
    "y_test"
   ]
  },
  {
   "cell_type": "code",
   "execution_count": null,
   "metadata": {
    "executionInfo": {
     "elapsed": 13522,
     "status": "aborted",
     "timestamp": 1609534607233,
     "user": {
      "displayName": "Sharath Dinesh",
      "photoUrl": "",
      "userId": "14052193369924556532"
     },
     "user_tz": -330
    },
    "id": "vaMbrKQCvJ0x"
   },
   "outputs": [],
   "source": [
    "L = 7\n",
    "W = 7\n",
    "fig, axes = plt.subplots(L, W, figsize = (12, 12))\n",
    "axes = axes.ravel()\n",
    "\n",
    "for i in np.arange(0, L*W):\n",
    "    axes[i].imshow(X_test[i])\n",
    "    axes[i].set_title('Prediction = {}\\n True = {}'.format(predicted_classes[i], y_test[i]))\n",
    "    axes[i].axis('off')\n",
    "\n",
    "plt.subplots_adjust(wspace = 1)    "
   ]
  },
  {
   "cell_type": "code",
   "execution_count": null,
   "metadata": {
    "executionInfo": {
     "elapsed": 13520,
     "status": "aborted",
     "timestamp": 1609534607235,
     "user": {
      "displayName": "Sharath Dinesh",
      "photoUrl": "",
      "userId": "14052193369924556532"
     },
     "user_tz": -330
    },
    "id": "dRtU7R3KvJ0x"
   },
   "outputs": [],
   "source": [
    "from sklearn.metrics import confusion_matrix\n",
    "import seaborn as sns\n",
    "\n",
    "cm = confusion_matrix(y_test, predicted_classes)\n",
    "cm\n",
    "plt.figure(figsize = (10, 10))\n",
    "sns.heatmap(cm, annot = True)"
   ]
  },
  {
   "cell_type": "markdown",
   "metadata": {
    "id": "1GNDxOJevJ0y"
   },
   "source": [
    "# STEP #6: SAVING THE MODEL"
   ]
  },
  {
   "cell_type": "code",
   "execution_count": null,
   "metadata": {
    "executionInfo": {
     "elapsed": 13518,
     "status": "aborted",
     "timestamp": 1609534607238,
     "user": {
      "displayName": "Sharath Dinesh",
      "photoUrl": "",
      "userId": "14052193369924556532"
     },
     "user_tz": -330
    },
    "id": "TrrIhA-WvJ0y"
   },
   "outputs": [],
   "source": [
    "import os \n",
    "directory = os.path.join(os.getcwd(), 'saved_models')\n",
    "\n",
    "if not os.path.isdir(directory):\n",
    "    os.makedirs(directory)\n",
    "model_path = os.path.join(directory, 'keras_cifar10_trained_model.h5')\n",
    "cnn_model.save(model_path)"
   ]
  },
  {
   "cell_type": "markdown",
   "metadata": {
    "id": "or4220Q-vJ0y"
   },
   "source": [
    "# STEP #7: IMPROVING THE MODEL WITH DATA AUGMENTATION"
   ]
  },
  {
   "cell_type": "markdown",
   "metadata": {
    "id": "cWcRvN5KvJ0z"
   },
   "source": [
    "- Image Augmentation is the process of artificially increasing the variations of the images in the datasets by flipping, enlarging, rotating the original images. \n",
    "- Augmentations also include shifting and changing the brightness of the images."
   ]
  },
  {
   "cell_type": "markdown",
   "metadata": {
    "id": "MbAMF8YtvJ0z"
   },
   "source": [
    "# STEP 7.1 DATA AUGMENTATION FOR THE CIFAR-10 DATASET"
   ]
  },
  {
   "cell_type": "code",
   "execution_count": null,
   "metadata": {
    "executionInfo": {
     "elapsed": 13518,
     "status": "aborted",
     "timestamp": 1609534607243,
     "user": {
      "displayName": "Sharath Dinesh",
      "photoUrl": "",
      "userId": "14052193369924556532"
     },
     "user_tz": -330
    },
    "id": "nzNdXQsYvJ00"
   },
   "outputs": [],
   "source": [
    "import keras\n",
    "from keras.datasets import cifar10\n",
    "(X_train, y_train), (X_test, y_test) = cifar10.load_data()"
   ]
  },
  {
   "cell_type": "code",
   "execution_count": null,
   "metadata": {
    "executionInfo": {
     "elapsed": 13515,
     "status": "aborted",
     "timestamp": 1609534607245,
     "user": {
      "displayName": "Sharath Dinesh",
      "photoUrl": "",
      "userId": "14052193369924556532"
     },
     "user_tz": -330
    },
    "id": "ZyE3J-URvJ00"
   },
   "outputs": [],
   "source": [
    "X_train = X_train.astype('float32')\n",
    "X_test = X_test.astype('float32')"
   ]
  },
  {
   "cell_type": "code",
   "execution_count": null,
   "metadata": {
    "executionInfo": {
     "elapsed": 13517,
     "status": "aborted",
     "timestamp": 1609534607252,
     "user": {
      "displayName": "Sharath Dinesh",
      "photoUrl": "",
      "userId": "14052193369924556532"
     },
     "user_tz": -330
    },
    "id": "WCOD_7ePvJ00"
   },
   "outputs": [],
   "source": [
    "X_train.shape"
   ]
  },
  {
   "cell_type": "code",
   "execution_count": null,
   "metadata": {
    "executionInfo": {
     "elapsed": 13515,
     "status": "aborted",
     "timestamp": 1609534607254,
     "user": {
      "displayName": "Sharath Dinesh",
      "photoUrl": "",
      "userId": "14052193369924556532"
     },
     "user_tz": -330
    },
    "id": "aCkFBwQnvJ01"
   },
   "outputs": [],
   "source": [
    "n = 8 \n",
    "X_train_sample = X_train[:n]"
   ]
  },
  {
   "cell_type": "code",
   "execution_count": null,
   "metadata": {
    "executionInfo": {
     "elapsed": 13514,
     "status": "aborted",
     "timestamp": 1609534607258,
     "user": {
      "displayName": "Sharath Dinesh",
      "photoUrl": "",
      "userId": "14052193369924556532"
     },
     "user_tz": -330
    },
    "id": "Rq0-poO4vJ01"
   },
   "outputs": [],
   "source": [
    "X_train_sample.shape"
   ]
  },
  {
   "cell_type": "code",
   "execution_count": null,
   "metadata": {
    "executionInfo": {
     "elapsed": 13511,
     "status": "aborted",
     "timestamp": 1609534607259,
     "user": {
      "displayName": "Sharath Dinesh",
      "photoUrl": "",
      "userId": "14052193369924556532"
     },
     "user_tz": -330
    },
    "id": "Zn-AThGXvJ02"
   },
   "outputs": [],
   "source": [
    "from keras.preprocessing.image import ImageDataGenerator\n",
    "\n",
    "# dataget_train = ImageDataGenerator(rotation_range = 90)\n",
    "# dataget_train = ImageDataGenerator(vertical_flip=True)\n",
    "# dataget_train = ImageDataGenerator(height_shift_range=0.5)\n",
    "dataget_train = ImageDataGenerator(brightness_range=(1,3))\n",
    "\n",
    "\n",
    "dataget_train.fit(X_train_sample)"
   ]
  },
  {
   "cell_type": "code",
   "execution_count": null,
   "metadata": {
    "executionInfo": {
     "elapsed": 13512,
     "status": "aborted",
     "timestamp": 1609534607264,
     "user": {
      "displayName": "Sharath Dinesh",
      "photoUrl": "",
      "userId": "14052193369924556532"
     },
     "user_tz": -330
    },
    "id": "F7LCK-_fvJ03"
   },
   "outputs": [],
   "source": [
    "from scipy.misc import toimage\n",
    "\n",
    "fig = plt.figure(figsize = (20,2))\n",
    "for x_batch in dataget_train.flow(X_train_sample, batch_size = n):\n",
    "    for i in range(0,n):\n",
    "        ax = fig.add_subplot(1, n, i+1)\n",
    "        ax.imshow(toimage(x_batch[i]))\n",
    "    fig.suptitle('Augmented images (rotated 90 degrees)')\n",
    "    plt.show()\n",
    "    break;\n"
   ]
  },
  {
   "cell_type": "markdown",
   "metadata": {
    "id": "0JNpwaUzvJ03"
   },
   "source": [
    "# STEP 7.2 MODEL TRAINING USING AUGEMENTED DATASET"
   ]
  },
  {
   "cell_type": "code",
   "execution_count": null,
   "metadata": {
    "executionInfo": {
     "elapsed": 13509,
     "status": "aborted",
     "timestamp": 1609534607266,
     "user": {
      "displayName": "Sharath Dinesh",
      "photoUrl": "",
      "userId": "14052193369924556532"
     },
     "user_tz": -330
    },
    "id": "LlstHHvVvJ04"
   },
   "outputs": [],
   "source": [
    "from keras.preprocessing.image import ImageDataGenerator\n",
    "\n",
    "datagen = ImageDataGenerator(\n",
    "                            rotation_range = 90,\n",
    "                            width_shift_range = 0.1,\n",
    "                            horizontal_flip = True,\n",
    "                            vertical_flip = True\n",
    "                             )"
   ]
  },
  {
   "cell_type": "code",
   "execution_count": null,
   "metadata": {
    "executionInfo": {
     "elapsed": 13506,
     "status": "aborted",
     "timestamp": 1609534607267,
     "user": {
      "displayName": "Sharath Dinesh",
      "photoUrl": "",
      "userId": "14052193369924556532"
     },
     "user_tz": -330
    },
    "id": "yZz0nvirvJ05"
   },
   "outputs": [],
   "source": [
    "datagen.fit(X_train)"
   ]
  },
  {
   "cell_type": "code",
   "execution_count": null,
   "metadata": {
    "executionInfo": {
     "elapsed": 13505,
     "status": "aborted",
     "timestamp": 1609534607270,
     "user": {
      "displayName": "Sharath Dinesh",
      "photoUrl": "",
      "userId": "14052193369924556532"
     },
     "user_tz": -330
    },
    "id": "tFbRydb0vJ07"
   },
   "outputs": [],
   "source": [
    "cnn_model.fit_generator(datagen.flow(X_train, y_train, batch_size = 32), epochs = 2)"
   ]
  },
  {
   "cell_type": "code",
   "execution_count": null,
   "metadata": {
    "executionInfo": {
     "elapsed": 13501,
     "status": "aborted",
     "timestamp": 1609534607271,
     "user": {
      "displayName": "Sharath Dinesh",
      "photoUrl": "",
      "userId": "14052193369924556532"
     },
     "user_tz": -330
    },
    "id": "N_g0yzMxvJ08"
   },
   "outputs": [],
   "source": [
    "score = cnn_model.evaluate(X_test, y_test)\n",
    "print('Test accuracy', score[1])"
   ]
  },
  {
   "cell_type": "code",
   "execution_count": null,
   "metadata": {
    "executionInfo": {
     "elapsed": 13499,
     "status": "aborted",
     "timestamp": 1609534607273,
     "user": {
      "displayName": "Sharath Dinesh",
      "photoUrl": "",
      "userId": "14052193369924556532"
     },
     "user_tz": -330
    },
    "id": "BfDLYbEPvJ08"
   },
   "outputs": [],
   "source": [
    "# save the model\n",
    "directory = os.path.join(os.getcwd(), 'saved_models')\n",
    "\n",
    "if not os.path.isdir(directory):\n",
    "    os.makedirs(directory)\n",
    "model_path = os.path.join(directory, 'keras_cifar10_trained_model_Augmentation.h5')\n",
    "cnn_model.save(model_path)"
   ]
  }
 ],
 "metadata": {
  "accelerator": "GPU",
  "colab": {
   "collapsed_sections": [],
   "name": "Cifar_10_classification.ipynb",
   "provenance": []
  },
  "kernelspec": {
   "display_name": "Python 3",
   "language": "python",
   "name": "python3"
  },
  "language_info": {
   "codemirror_mode": {
    "name": "ipython",
    "version": 3
   },
   "file_extension": ".py",
   "mimetype": "text/x-python",
   "name": "python",
   "nbconvert_exporter": "python",
   "pygments_lexer": "ipython3",
   "version": "3.8.8"
  }
 },
 "nbformat": 4,
 "nbformat_minor": 1
}
